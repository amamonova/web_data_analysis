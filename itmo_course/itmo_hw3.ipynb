{
 "cells": [
  {
   "cell_type": "markdown",
   "metadata": {},
   "source": [
    "https://colab.research.google.com/drive/1gejQbVg0zSRXO4QXakYSb3yyaKJWnbQa"
   ]
  },
  {
   "cell_type": "markdown",
   "metadata": {},
   "source": [
    "## Домашнее задание №3 \n",
    "### Задача из курса _Python для решения практических задач_\n",
    "#### Задача 3.1"
   ]
  },
  {
   "cell_type": "markdown",
   "metadata": {},
   "source": [
    "В этой задаче нужно просто установить библиотеку xmltodict, скачать файл https://stepik.org/media/attachments/lesson/245571/map1.osm, создать в директории с файлом скрипт со следующим содержанием:"
   ]
  },
  {
   "cell_type": "code",
   "execution_count": 1,
   "metadata": {},
   "outputs": [
    {
     "name": "stdout",
     "output_type": "stream",
     "text": [
      "296932122\n"
     ]
    }
   ],
   "source": [
    "import xmltodict\n",
    "from urllib.request import urlopen\n",
    "import ssl\n",
    "ssl._create_default_https_context = ssl._create_unverified_context\n",
    "\n",
    "if __name__ == '__main__':\n",
    "    fin = urlopen(\n",
    "        'https://stepik.org/media/attachments/lesson/245571/map1.osm')\n",
    "    xml = fin.read().decode('utf-8')\n",
    "    fin.close()\n",
    "\n",
    "    parsedxml = xmltodict.parse(xml)\n",
    "    print(parsedxml['osm']['node'][100]['@id'])"
   ]
  },
  {
   "cell_type": "markdown",
   "metadata": {},
   "source": [
    "#### Задача 3.2\n",
    "В OpenStreetMap XML встречаются теги node, которые соответствуют некоторым точкам на карте. Ноды могут не только обозначать какой-то точечный объект, но и входить в состав way (некоторой линии, возможно замкнутой) и не иметь собственных тегов. Для доступного по ссылке https://stepik.org/media/attachments/lesson/245678/map1.osm фрагмента карты посчитайте, сколько node имеет хотя бы один вложенный тэг tag, а сколько - не имеют. В качестве ответа введите два числа, разделённых пробелом."
   ]
  },
  {
   "cell_type": "code",
   "execution_count": 2,
   "metadata": {},
   "outputs": [
    {
     "name": "stdout",
     "output_type": "stream",
     "text": [
      "316 6166\n"
     ]
    }
   ],
   "source": [
    "file = urlopen(\n",
    "    'https://stepik.org/media/attachments/lesson/245678/map1.osm').read()\n",
    "xml = file.decode('utf-8')\n",
    "\n",
    "parsed_xml = xmltodict.parse(xml)\n",
    "\n",
    "tags = 0\n",
    "for node in parsed_xml['osm']['node']:\n",
    "    if 'tag' in node:\n",
    "        tags += 1\n",
    "no_tags = len(parsed_xml['osm']['node']) - tags\n",
    "print(f'{tags} {no_tags}')"
   ]
  },
  {
   "cell_type": "markdown",
   "metadata": {},
   "source": [
    "#### Задача 3.3\n",
    "Вася решил открыть АЗС (заправку). Чтобы оценить уровень конкуренции он хочет изучить количество заправок в интересующем его районе. Вася скачал интересующий его кусок карты OSM https://stepik.org/media/attachments/lesson/245681/map2.osm и хочет посчитать, сколько на нём отмечено точечных объектов (node), являющихся заправкой. В качестве ответа вам необходимо вывести одно число - количество АЗС.\n",
    "\n",
    "\"Как обозначается заправка в OpenStreetMap\" - пример хорошего запроса чтобы узнать, как обозначается заправка в OpenStreetMap."
   ]
  },
  {
   "cell_type": "code",
   "execution_count": 3,
   "metadata": {},
   "outputs": [
    {
     "name": "stdout",
     "output_type": "stream",
     "text": [
      "15\n"
     ]
    }
   ],
   "source": [
    "file = urlopen(\n",
    "        'https://stepik.org/media/attachments/lesson/245681/map2.osm').read()\n",
    "\n",
    "xml = file.decode('utf-8')\n",
    "xml = xmltodict.parse(xml)\n",
    "num = 0\n",
    "\n",
    "for node in xml['osm']['node']:\n",
    "    if 'tag' in node:\n",
    "        if isinstance(node['tag'], list):\n",
    "            for tag in node['tag']:\n",
    "                if tag['@v'] == 'fuel':\n",
    "                    num += 1\n",
    "        elif node['tag']['@v'] == 'fuel':\n",
    "            num += 1\n",
    "\n",
    "print(num)"
   ]
  },
  {
   "cell_type": "markdown",
   "metadata": {},
   "source": [
    "#### Задача 3.4\n",
    "Вася решил открыть АЗС (заправку). Чтобы оценить уровень конкуренции он хочет изучить количество заправок в интересующем его районе. Вася скачал интересующий его кусок карты OSM https://stepik.org/media/attachments/lesson/245681/map2.osm и хочет посчитать, сколько на нём отмечено точечных объектов (node), являющихся заправкой. В качестве ответа вам необходимо вывести одно число - количество АЗС.\n",
    "\n",
    "\"Как обозначается заправка в OpenStreetMap\" - пример хорошего запроса чтобы узнать, как обозначается заправка в OpenStreetMap."
   ]
  },
  {
   "cell_type": "code",
   "execution_count": 4,
   "metadata": {},
   "outputs": [
    {
     "name": "stdout",
     "output_type": "stream",
     "text": [
      "27\n"
     ]
    }
   ],
   "source": [
    "import xmltodict\n",
    "from urllib.request import urlopen\n",
    "import ssl\n",
    "ssl._create_default_https_context = ssl._create_unverified_context\n",
    "\n",
    "\n",
    "def number_of_objects(xml_dict, obj_name, area_type='node'):\n",
    "    result_num = 0\n",
    "    for node in xml_dict['osm'][area_type]:\n",
    "        if 'tag' in node:\n",
    "            if isinstance(node['tag'], list):\n",
    "                for tag in node['tag']:\n",
    "                    if tag['@v'] == obj_name:\n",
    "                        result_num += 1\n",
    "            elif node['tag']['@v'] == obj_name:\n",
    "                result_num += 1\n",
    "    return result_num\n",
    "\n",
    "\n",
    "if __name__ == '__main__':\n",
    "    file = urlopen(\n",
    "        'https://stepik.org/media/attachments/lesson/245681/map2.osm').read()\n",
    "    xml = file.decode('utf-8')\n",
    "    xml = xmltodict.parse(xml)\n",
    "    num = 0\n",
    "\n",
    "    for area_t in ['node', 'way']:\n",
    "        num += number_of_objects(xml, 'fuel', area_t)\n",
    "\n",
    "    print(num)"
   ]
  },
  {
   "cell_type": "markdown",
   "metadata": {},
   "source": [
    "#### Задача НЕ со stepik \n",
    "Экспортируйте с OSM часть карты, на которой находитесь вы (или любую другую интересную вам)"
   ]
  },
  {
   "cell_type": "markdown",
   "metadata": {},
   "source": [
    "_Я решила проанализировать количество автобусных остановок в моем родном городе, Североморске_"
   ]
  },
  {
   "cell_type": "code",
   "execution_count": 5,
   "metadata": {},
   "outputs": [],
   "source": [
    "url = 'https://www.openstreetmap.org/api/0.6/map?bbox=33.4021%2C69.0642%2C33.448%2C69.0832'\n",
    "xml = urlopen(url).read().decode('utf-8')\n",
    "xml = xmltodict.parse(xml)"
   ]
  },
  {
   "cell_type": "markdown",
   "metadata": {},
   "source": [
    "Воспользуюсь функцией, которую написала в рамках курса на степике:"
   ]
  },
  {
   "cell_type": "code",
   "execution_count": 6,
   "metadata": {},
   "outputs": [
    {
     "name": "stdout",
     "output_type": "stream",
     "text": [
      "21\n"
     ]
    }
   ],
   "source": [
    "print(number_of_objects(xml, 'bus_stop', area_type='node'))"
   ]
  },
  {
   "cell_type": "markdown",
   "metadata": {},
   "source": [
    "#### Работа с xml с помощью BeautifulSoup"
   ]
  },
  {
   "cell_type": "code",
   "execution_count": 7,
   "metadata": {},
   "outputs": [],
   "source": [
    "from bs4 import BeautifulSoup"
   ]
  },
  {
   "cell_type": "code",
   "execution_count": 8,
   "metadata": {},
   "outputs": [
    {
     "data": {
      "text/plain": [
       "21"
      ]
     },
     "execution_count": 8,
     "metadata": {},
     "output_type": "execute_result"
    }
   ],
   "source": [
    "soup = BeautifulSoup(urlopen(url).read().decode('utf-8'))\n",
    "\n",
    "len(soup.find_all('tag', {'v': 'bus_stop'}))"
   ]
  },
  {
   "cell_type": "markdown",
   "metadata": {},
   "source": [
    "### Задание из курса Python: основы и применение\n",
    "#### Задача 3.4\n",
    "Рассмотрим два HTML-документа A и B.\n",
    "Из A можно перейти в B за один переход, если в A есть ссылка на B, т. е. внутри A есть тег `<a href=\"B\">`, возможно с дополнительными параметрами внутри тега.\n",
    "Из A можно перейти в B за два перехода если существует такой документ C, что из A в C можно перейти за один переход и из C в B можно перейти за один переход.\n",
    "\n",
    "Вашей программе на вход подаются две строки, содержащие url двух документов A и B.\n",
    "Выведите Yes, если из A в B можно перейти за два перехода, иначе выведите No.\n",
    "\n",
    "Обратите внимание на то, что не все ссылки внутри HTML документа могут вести на существующие HTML документы."
   ]
  },
  {
   "cell_type": "code",
   "execution_count": 9,
   "metadata": {},
   "outputs": [
    {
     "name": "stdin",
     "output_type": "stream",
     "text": [
      " https://stepic.org/media/attachments/lesson/24472/sample0.html\n",
      " https://stepic.org/media/attachments/lesson/24472/sample1.html\n"
     ]
    },
    {
     "name": "stdout",
     "output_type": "stream",
     "text": [
      "No\n"
     ]
    }
   ],
   "source": [
    "import requests\n",
    "\n",
    "inp1, inp2 = input().strip(), input().strip()\n",
    "\n",
    "soup_a = BeautifulSoup(requests.get(inp1).text, 'html.parser')\n",
    "\n",
    "flag = False\n",
    "for a in soup_a.find_all('a'):\n",
    "    soup = BeautifulSoup(requests.get(a['href']).text, 'html.parser')\n",
    "    for a_inside in soup.find_all('a'):\n",
    "        if a_inside['href'] == inp2:\n",
    "            flag = True\n",
    "print('Yes') if flag else print('No')"
   ]
  },
  {
   "cell_type": "markdown",
   "metadata": {},
   "source": []
  },
  {
   "cell_type": "code",
   "execution_count": 10,
   "metadata": {},
   "outputs": [
    {
     "name": "stdin",
     "output_type": "stream",
     "text": [
      " https://stepic.org/media/attachments/lesson/24472/sample0.html\n",
      " https://stepic.org/media/attachments/lesson/24472/sample2.html\n"
     ]
    },
    {
     "name": "stdout",
     "output_type": "stream",
     "text": [
      "Yes\n"
     ]
    }
   ],
   "source": [
    "import re\n",
    "\n",
    "def get_hrefs(string):\n",
    "    return re.findall(r'href=[\\'\"]?([^\\'\" >]+)', string)\n",
    "    \n",
    "inp1, inp2 = input().strip(), input().strip()\n",
    "\n",
    "flag = False\n",
    "hrefs_a = get_hrefs(requests.get(inp1).text)\n",
    "for href in hrefs_a:\n",
    "    if inp2 in get_hrefs(requests.get(href).text):\n",
    "        flag = True\n",
    "\n",
    "print('Yes') if flag else print('No')"
   ]
  },
  {
   "cell_type": "code",
   "execution_count": 11,
   "metadata": {},
   "outputs": [
    {
     "name": "stdin",
     "output_type": "stream",
     "text": [
      " http://pastebin.com/raw/7543p0ns\n"
     ]
    },
    {
     "name": "stdout",
     "output_type": "stream",
     "text": [
      "adworker.ru\n",
      "banner.rbc.ru\n",
      "biztorg.ru\n",
      "blogi.rbc.ru\n",
      "cnews.ru\n",
      "consensus.rbc.ru\n",
      "conv.rbc.ru\n",
      "credit.rbc.ru\n",
      "data.rbc.ru\n",
      "dict.rbc.ru\n",
      "drinktime.ru\n",
      "events.cnews.ru\n",
      "export.rbc.ru\n",
      "finolymp.ru\n",
      "gift.cnews.ru\n",
      "graph.rbc.ru\n",
      "magazine.rbc.ru\n",
      "map.rbc.ru\n",
      "marketing.rbc.ru\n",
      "memori.ru\n",
      "otc-pif.rbc.ru\n",
      "otc-stock.rbc.ru\n",
      "pda.rbc.ru\n",
      "pogoda.rbc.ru\n",
      "portfolio.rbc.ru\n",
      "quote-otc.rbc.ru\n",
      "quote.ru\n",
      "raiting.rbc.ru\n",
      "rating.rbc.ru\n",
      "realty.rbc.ru\n",
      "redir.rbc.ru\n",
      "rss.rbc.ru\n",
      "seminar.rbc.ru\n",
      "spb.rbc.ru\n",
      "sport.rbc.ru\n",
      "static.feed.rbc.ru\n",
      "stock.rbc.ru\n",
      "style.rbc.ru\n",
      "ta.rbc.ru\n",
      "tata.ru\n",
      "top.rbc.ru\n",
      "top100.rambler.ru\n",
      "turbo.ru\n",
      "tv.rbc.ru\n",
      "ug.rbc.ru\n",
      "ulov-umov.ru\n",
      "videoarchive.rbc.ru\n",
      "www.5ballov.ru\n",
      "www.armd.ru\n",
      "www.autonews.ru\n",
      "www.biztorg.ru\n",
      "www.cnews.ru\n",
      "www.conf.rbc.ru\n",
      "www.event.rbc.ru\n",
      "www.iglobe.ru\n",
      "www.informer.ru\n",
      "www.ivd.ru\n",
      "www.liveinternet.ru\n",
      "www.m-2.ru\n",
      "www.nashidengi.ru\n",
      "www.pochta.ru\n",
      "www.quote.ru\n",
      "www.quoterate.ru\n",
      "www.quotetotal.ru\n",
      "www.rbc.ru\n",
      "www.rbc.ua\n",
      "www.rbcdaily.ru\n",
      "www.rbcinfosystems.com\n",
      "www.rbcnews.com\n",
      "www.rbctv.ru\n",
      "www.refunder.ru\n",
      "www.salon.ru\n",
      "www.seminar.rbc.ru\n",
      "www.top.rbc.ru\n",
      "www.turbo.ru\n",
      "www.turist.ru\n",
      "www.utro.ru\n",
      "www.worldclass.ru\n",
      "zoom.cnews.ru\n"
     ]
    }
   ],
   "source": [
    "import requests\n",
    "import re\n",
    "\n",
    "inp = input().strip()\n",
    "html = requests.get(inp).text\n",
    "result = re.findall(r'<a\\s.*?\\s?href=[\\'\\\"](?:\\w+\\:\\/\\/)?(\\w[a-zA-Z0-9.-]+)', html)\n",
    "result = list(set(result))\n",
    "result.sort()\n",
    "\n",
    "for r in result:\n",
    "    print(r)"
   ]
  },
  {
   "cell_type": "code",
   "execution_count": null,
   "metadata": {},
   "outputs": [],
   "source": []
  }
 ],
 "metadata": {
  "kernelspec": {
   "display_name": "Python 3",
   "language": "python",
   "name": "python3"
  },
  "language_info": {
   "codemirror_mode": {
    "name": "ipython",
    "version": 3
   },
   "file_extension": ".py",
   "mimetype": "text/x-python",
   "name": "python",
   "nbconvert_exporter": "python",
   "pygments_lexer": "ipython3",
   "version": "3.6.5"
  }
 },
 "nbformat": 4,
 "nbformat_minor": 4
}
