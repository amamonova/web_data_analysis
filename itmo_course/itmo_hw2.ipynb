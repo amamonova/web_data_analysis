{
 "cells": [
  {
   "cell_type": "markdown",
   "metadata": {},
   "source": [
    "https://colab.research.google.com/drive/1Dsx-zKfAPiXwy4gzceQ4ZCb4WMbhXxaF"
   ]
  },
  {
   "cell_type": "markdown",
   "metadata": {},
   "source": [
    "## Домашнее задание №2 \n",
    "### Задача из курса _Python для решения практических задач_\n",
    "#### 2.3.1"
   ]
  },
  {
   "cell_type": "markdown",
   "metadata": {},
   "source": [
    "Васю назначили завхозом в туристической группе и он подошёл к подготовке ответственно, составив справочник продуктов с указанием калорийности на 100 грамм, а также содержание белков, жиров и углеводов на 100 грамм продукта. Ему не удалось найти всю информацию, поэтому некоторые ячейки остались незаполненными (можно считать их значение равным нулю). Также он использовал какой-то странный офисный пакет и разделял целую и дробную часть чисел запятой. Таблица доступна по ссылке https://stepik.org/media/attachments/lesson/245290/trekking1.xlsx\n",
    "\n",
    "Вася хочет минимизировать вес продуктов и для этого брать самые калорийные продукты. Помогите ему и упорядочите продукты по убыванию калорийности. В случае, если продукты имеют одинаковую калорийность - упорядочите их по названию. В качестве ответа необходимо сдать названия продуктов, по одному в строке."
   ]
  },
  {
   "cell_type": "code",
   "execution_count": 4,
   "metadata": {},
   "outputs": [],
   "source": [
    "import pandas as pd\n",
    "import ssl\n",
    "ssl._create_default_https_context = ssl._create_unverified_context"
   ]
  },
  {
   "cell_type": "code",
   "execution_count": 5,
   "metadata": {},
   "outputs": [
    {
     "name": "stdout",
     "output_type": "stream",
     "text": [
      "Шоколад молочный какао\n",
      "Шоколад молочный миндаль\n",
      "Сухофрукты\n",
      "Омлет с копченостями галагала\n",
      "Свинина сублимрованная\n",
      "Шоколад ремесленный\n",
      "Козинак подсолнечный\n",
      "Омлет с грибами галагала\n",
      "Козинак арахисовый\n",
      "Хлебцы льняные \"Тайские\"\n",
      "Колбаса с/к \"Еврейская полусухая\"\n",
      "Говядина сублимрованная\n",
      "Сухарики ржаные с семечками\n",
      "Хлебцы льняные Морские\n",
      "Суп говяжий с картофелем галагала\n",
      "Суп гороховый с копченостями\n",
      "Суп гороховый с копченостями галагала\n",
      "Суп куриный с картофелем галагала\n",
      "Суп-гуляш галагала\n",
      "Суп-харчо \"Острый\"\n",
      "Сыр Маасдам\n",
      "Сыр Чеддер\n",
      "Борщ Московский Галагала\n",
      "Крупа гречневая\n",
      "Рис пропаренный Увелка\n",
      "Свинина Кронидов\n",
      "Сухарики ржаные Finn Crisp\n",
      "Капеллини Макфа\n",
      "Сыр Гауда\n",
      "Кус Кус\n",
      "Каша Быстров\n",
      "Картофель сушеный\n",
      "Говядина Кронидов\n",
      "Хлебцы с чесноком и луком\n",
      "Суп томатный с рисом\n",
      "Балык \"Королевский\"\n",
      "Паутина\n"
     ]
    }
   ],
   "source": [
    "df = pd.read_excel('https://stepik.org/media/attachments/lesson/245290/trekking1.xlsx')\n",
    "df.fillna(0, inplace=True)\n",
    "df = df.sort_values(by=['ККал на 100', 'Unnamed: 0'],\n",
    "                    ascending=[False, True])\n",
    "for val in df['Unnamed: 0'].values:\n",
    "    print(val)"
   ]
  },
  {
   "cell_type": "markdown",
   "metadata": {},
   "source": [
    "#### Задача 2.3.2"
   ]
  },
  {
   "cell_type": "markdown",
   "metadata": {},
   "source": [
    "Васю назначили завхозом в туристической группе и он подошёл к подготовке ответственно, составив справочник продуктов с указанием калорийности на 100 грамм, а также содержание белков, жиров и углеводов на 100 грамм продукта. Ему не удалось найти всю информацию, поэтому некоторые ячейки остались незаполненными (можно считать их значение равным нулю). Также он использовал какой-то странный офисный пакет и разделял целую и дробную часть чисел запятой. Таблица доступна по ссылке https://stepik.org/media/attachments/lesson/245290/trekking2.xlsx \n",
    "\n",
    "Вася составил раскладку по продуктам на один день (она на листе \"Раскладка\") с указанием названия продукта и его количества в граммах. Посчитайте 4 числа: суммарную калорийность и граммы белков, жиров и углеводов. Числа округлите до целых вниз и введите через пробел."
   ]
  },
  {
   "cell_type": "code",
   "execution_count": 7,
   "metadata": {},
   "outputs": [
    {
     "name": "stdout",
     "output_type": "stream",
     "text": [
      "fats     307.40\n",
      "carb     302.15\n",
      "nuc      203.17\n",
      "cal     4963.85\n",
      "dtype: float64\n"
     ]
    }
   ],
   "source": [
    "url = 'https://stepik.org/media/attachments/lesson/245290/trekking2.xlsx'\n",
    "df = pd.read_excel(url)\n",
    "dairy = pd.read_excel(url, sheet_name='Раскладка')\n",
    "\n",
    "merged = pd.merge(dairy, df, right_on=['Unnamed: 0'],\n",
    "                  left_on='Продукт')\n",
    "merged.fillna(0, inplace=True)\n",
    "\n",
    "merged['fats'] = merged['Вес в граммах'] * (merged['Ж на 100'] / 100)\n",
    "merged['carb'] = merged['Вес в граммах'] * (merged['У на 100'] / 100)\n",
    "merged['nuc'] = merged['Вес в граммах'] * (merged['Б на 100'] / 100)\n",
    "merged['cal'] = merged['Вес в граммах'] * (merged['ККал на 100'] / 100)\n",
    "\n",
    "print(merged[['fats', 'carb', 'nuc', 'cal']].sum())"
   ]
  },
  {
   "cell_type": "markdown",
   "metadata": {},
   "source": [
    "#### Задача 2.3.3"
   ]
  },
  {
   "cell_type": "markdown",
   "metadata": {},
   "source": [
    "Васю назначили завхозом в туристической группе и он подошёл к подготовке ответственно, составив справочник продуктов с указанием калорийности на 100 грамм, а также содержание белков, жиров и углеводов на 100 грамм продукта. Ему не удалось найти всю информацию, поэтому некоторые ячейки остались незаполненными (можно считать их значение равным нулю). Также он использовал какой-то странный офисный пакет и разделял целую и дробную часть чисел запятой. Таблица доступна по ссылке https://stepik.org/media/attachments/lesson/245290/trekking3.xlsx\n",
    "\n",
    "Вася составил раскладку по продуктам на весь поход (она на листе \"Раскладка\") с указанием номера дня, названия продукта и его количества в граммах. Для каждого дня посчитайте 4 числа: суммарную калорийность и граммы белков, жиров и углеводов. Числа округлите до целых вниз и введите через пробел. Информация о каждом дне должна выводиться в отдельной строке."
   ]
  },
  {
   "cell_type": "code",
   "execution_count": 8,
   "metadata": {},
   "outputs": [
    {
     "name": "stdout",
     "output_type": "stream",
     "text": [
      "    cal  nuc  fats  carb\n",
      "1  2405   82   154   172\n",
      "2  4963  203   307   302\n",
      "3  5219  178   267   502\n",
      "4  4873  241   204   537\n",
      "5  5278  243   314   367\n",
      "6  4451  190   188   497\n",
      "7  4806  205   265   386\n",
      "8  5738  264   195   720\n",
      "9  1766   66    90   171\n"
     ]
    }
   ],
   "source": [
    "df = pd.read_excel(\n",
    "    'https://stepik.org/media/attachments/lesson/245290/trekking3.xlsx')\n",
    "dairy = pd.read_excel(\n",
    "    'https://stepik.org/media/attachments/lesson/245290/trekking3.xlsx',\n",
    "    sheet_name='Раскладка', index_col=False)\n",
    "\n",
    "merged = pd.merge(dairy, df, right_on=['Unnamed: 0'],\n",
    "                  left_on='Продукт')\n",
    "merged.fillna(0, inplace=True)\n",
    "\n",
    "merged['fats'] = merged['Вес в граммах'] * (merged['Ж на 100'] / 100)\n",
    "merged['carb'] = merged['Вес в граммах'] * (merged['У на 100'] / 100)\n",
    "merged['nuc'] = merged['Вес в граммах'] * (merged['Б на 100'] / 100)\n",
    "merged['cal'] = merged['Вес в граммах'] * (merged['ККал на 100'] / 100)\n",
    "\n",
    "res = pd.DataFrame()\n",
    "for item in ['cal', 'nuc', 'fats', 'carb']:\n",
    "    res = pd.concat([res, merged.groupby('День')[item].sum()], axis=1)\n",
    "\n",
    "print(res.astype(int))"
   ]
  },
  {
   "cell_type": "markdown",
   "metadata": {},
   "source": [
    "#### Задача 2.4.1"
   ]
  },
  {
   "cell_type": "code",
   "execution_count": 11,
   "metadata": {},
   "outputs": [
    {
     "name": "stdout",
     "output_type": "stream",
     "text": [
      "                                    Name  Salary\n",
      "301  Александров Александр Александрович   19279\n",
      "295     Александров Александр Алексеевич  111877\n",
      "285     Александров Александр Васильевич  121425\n",
      "308     Александров Александр Дмитриевич   47073\n",
      "931       Александров Александр Иванович   98888\n"
     ]
    }
   ],
   "source": [
    "import io\n",
    "from urllib.request import urlretrieve\n",
    "import zipfile\n",
    "\n",
    "if __name__ == '__main__':\n",
    "    url = 'https://stepik.org/media/attachments/lesson/245299/rogaikopyta.zip'\n",
    "    urlretrieve(url, 'rogaikopyta')\n",
    "    zf = zipfile.ZipFile('rogaikopyta')\n",
    "\n",
    "    res = pd.DataFrame(columns=['Name', 'Salary'])\n",
    "    for file in zf.namelist():\n",
    "        xl = zf.read(file)\n",
    "        temp = pd.read_excel(io.BytesIO(xl))\n",
    "\n",
    "        name = temp['Unnamed: 1'][0]\n",
    "        salary = temp['Unnamed: 3'][0]\n",
    "\n",
    "        res = res.append({'Name': name.strip(), 'Salary': salary}, ignore_index=True)\n",
    "\n",
    "    res = res.sort_values(by='Name')\n",
    "    res.Salary = res.Salary.astype(int)\n",
    "\n",
    "# For full output:    \n",
    "#     with pd.option_context('display.max_rows', None, 'display.max_columns',\n",
    "#                            None):\n",
    "#         print(res.to_string(index=False))\n",
    "\n",
    "    print(res.head())"
   ]
  },
  {
   "cell_type": "code",
   "execution_count": null,
   "metadata": {},
   "outputs": [],
   "source": []
  }
 ],
 "metadata": {
  "kernelspec": {
   "display_name": "Python 3",
   "language": "python",
   "name": "python3"
  },
  "language_info": {
   "codemirror_mode": {
    "name": "ipython",
    "version": 3
   },
   "file_extension": ".py",
   "mimetype": "text/x-python",
   "name": "python",
   "nbconvert_exporter": "python",
   "pygments_lexer": "ipython3",
   "version": "3.6.5"
  }
 },
 "nbformat": 4,
 "nbformat_minor": 4
}
